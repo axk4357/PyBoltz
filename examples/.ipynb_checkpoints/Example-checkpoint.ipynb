{
 "cells": [
  {
   "cell_type": "code",
   "execution_count": 13,
   "metadata": {},
   "outputs": [],
   "source": [
    "import numpy as np\n",
    "import pylab\n",
    "import time\n",
    "from pathlib import Path\n",
    "\n",
    "from PyBoltz.PyBoltzRun import *"
   ]
  },
  {
   "cell_type": "code",
   "execution_count": 14,
   "metadata": {},
   "outputs": [
    {
     "data": {
      "text/plain": [
       "['/Users/King/Documents/GitHub/PyBoltz/examples',\n",
       " '/Users/King/Documents/GitHub/PyBoltz/examples',\n",
       " '/Users/King/Documents/GitHub/PyBoltz',\n",
       " '/Users/King/Documents/GitHub/PyGasMix',\n",
       " '/Library/Frameworks/Python.framework/Versions/3.8/lib/python38.zip',\n",
       " '/Library/Frameworks/Python.framework/Versions/3.8/lib/python3.8',\n",
       " '/Library/Frameworks/Python.framework/Versions/3.8/lib/python3.8/lib-dynload',\n",
       " '',\n",
       " '/Library/Frameworks/Python.framework/Versions/3.8/lib/python3.8/site-packages',\n",
       " '/Library/Frameworks/Python.framework/Versions/3.8/lib/python3.8/site-packages/IPython/extensions',\n",
       " '/Users/King/.ipython',\n",
       " '../hdf5_python',\n",
       " '../hdf5_python',\n",
       " '../hdf5_python',\n",
       " '../hdf5_python',\n",
       " '../hdf5_python',\n",
       " '../hdf5_python',\n",
       " '../hdf5_python',\n",
       " '../hdf5_python',\n",
       " '../hdf5_python',\n",
       " '../hdf5_python',\n",
       " '../hdf5_python',\n",
       " '../hdf5_python',\n",
       " '../hdf5_python',\n",
       " '../hdf5_python',\n",
       " '../hdf5_python',\n",
       " '../hdf5_python',\n",
       " '../hdf5_python',\n",
       " '../hdf5_python',\n",
       " '../hdf5_python',\n",
       " '../hdf5_python']"
      ]
     },
     "execution_count": 14,
     "metadata": {},
     "output_type": "execute_result"
    }
   ],
   "source": [
    "import sys\n",
    "sys.path"
   ]
  },
  {
   "cell_type": "code",
   "execution_count": null,
   "metadata": {},
   "outputs": [],
   "source": []
  },
  {
   "cell_type": "code",
   "execution_count": 15,
   "metadata": {},
   "outputs": [],
   "source": [
    "# Set up helper object\n",
    "PBRun=PyBoltzRun()"
   ]
  },
  {
   "cell_type": "code",
   "execution_count": 16,
   "metadata": {},
   "outputs": [
    {
     "name": "stdout",
     "output_type": "stream",
     "text": [
      "CF4 1\n",
      "ARGON 2\n",
      "HELIUM4 3\n",
      "HELIUM3 4\n",
      "NEON 5\n",
      "KRYPTON 6\n",
      "XENON 7\n",
      "CH4 8\n",
      "ETHANE 9\n",
      "PROPANE 10\n",
      "ISOBUTANE 11\n",
      "CO2 12\n",
      "H2O 14\n",
      "OXYGEN 15\n",
      "NITROGEN 16\n",
      "HYDROGEN 21\n",
      "DEUTERIUM 22\n",
      "DME 25\n",
      "DME2 26\n"
     ]
    }
   ],
   "source": [
    "# Show list of available gases\n",
    "PBRun.ListGases()"
   ]
  },
  {
   "cell_type": "code",
   "execution_count": 17,
   "metadata": {},
   "outputs": [],
   "source": [
    "# Configure settings for our simulation\n",
    "MySettings   ={'Gases'                 :['DME2'],\n",
    "               'Fractions'             :[100],\n",
    "               'Max_collisions'        :1e7,\n",
    "               'EField_Vcm'            :100,\n",
    "               'Max_electron_energy'   :0,\n",
    "               'Temperature_C'         :23,\n",
    "               'Pressure_Torr'         :7500.062,\n",
    "               'BField_Tesla'          :0,\n",
    "               'BField_angle'          :0,\n",
    "               'Angular_dist_model'    :1,\n",
    "               'Enable_penning'        :0,\n",
    "               'Enable_thermal_motion' :1,\n",
    "               'ConsoleOutputFlag'     :0}"
   ]
  },
  {
   "cell_type": "code",
   "execution_count": 18,
   "metadata": {},
   "outputs": [],
   "source": [
    "# Create empty lists to store outputs\n",
    "DriftVels=[]\n",
    "DriftVels_err=[]\n",
    "DTs=[]\n",
    "DLs=[]\n",
    "DT1s=[]\n",
    "DL1s=[]\n",
    "DTs_err=[]\n",
    "DLs_err=[]\n",
    "DT1s_err=[]\n",
    "DL1s_err=[]"
   ]
  },
  {
   "cell_type": "code",
   "execution_count": 19,
   "metadata": {},
   "outputs": [
    {
     "name": "stdout",
     "output_type": "stream",
     "text": [
      "Running with E Field 100\n",
      "Input Decor_Colls not set, using default 0\n",
      "Input Decor_LookBacks not set, using default 0\n",
      "Input Decor_Step not set, using default 0\n",
      "Input NumSamples not set, using default 10\n",
      "\n",
      "Running with E Field 200\n",
      "\n",
      "Time elapsed:20.95459485054016\n"
     ]
    }
   ],
   "source": [
    "\n",
    "# Run for each E field\n",
    "\n",
    "EFields=np.arange(100,300,100)\n",
    "t1=time.time()\n",
    "for E in EFields:\n",
    "    print(\"Running with E Field \" +str(E))\n",
    "\n",
    "    MySettings['EField_Vcm']=E\n",
    "    \n",
    "    Output=PBRun.Run(MySettings)\n",
    "\n",
    "    DriftVels.append(Output['Drift_vel'].val[2])\n",
    "    DriftVels_err.append(Output['Drift_vel'].err[2])\n",
    "\n",
    "    DTs.append(Output['DT'].val)\n",
    "    DTs_err.append(Output['DT'].err)\n",
    "    \n",
    "    DLs.append(Output['DL'].val)\n",
    "    DLs_err.append(Output['DL'].err)\n",
    "    \n",
    "    DT1s.append(Output['DT1'].val)\n",
    "    DT1s_err.append(Output['DT1'].err)\n",
    "\n",
    "    DL1s.append(Output['DL1'].val)\n",
    "    DL1s_err.append(Output['DL1'].err)\n",
    "t2=time.time()\n",
    "\n",
    "print(\"Time elapsed:\" +str(t2-t1))"
   ]
  },
  {
   "cell_type": "code",
   "execution_count": 20,
   "metadata": {},
   "outputs": [
    {
     "name": "stdout",
     "output_type": "stream",
     "text": [
      "dict_keys(['Drift_vel', 'DT', 'DL', 'DT1', 'DL1', 'MeanEnergy', 'DTensor'])\n"
     ]
    }
   ],
   "source": [
    "# Lets look a what output info we have\n",
    "print(Output.keys())"
   ]
  },
  {
   "cell_type": "code",
   "execution_count": 21,
   "metadata": {},
   "outputs": [
    {
     "data": {
      "text/plain": [
       "Text(0, 0.5, 'Drift Velocity (mm/$\\\\mu$ s)')"
      ]
     },
     "execution_count": 21,
     "metadata": {},
     "output_type": "execute_result"
    },
    {
     "data": {
      "image/png": "[encoded data removed]",
      "text/plain": [
       "<Figure size 360x360 with 1 Axes>"
      ]
     },
     "metadata": {
      "needs_background": "light"
     },
     "output_type": "display_data"
    }
   ],
   "source": [
    "# Plot drift vel\n",
    "pylab.figure(figsize=(5,5))\n",
    "pylab.errorbar(EFields,DriftVels,DriftVels_err,capsize=5,fmt='o')\n",
    "pylab.xlabel(\"Electric Field (V/cm)\")\n",
    "pylab.ylabel(r\"Drift Velocity (mm/$\\mu$ s)\")"
   ]
  },
  {
   "cell_type": "code",
   "execution_count": 22,
   "metadata": {},
   "outputs": [
    {
     "data": {
      "text/plain": [
       "Text(0, 0.5, 'Diffusion (cm$^2$ s$^{-1}$)')"
      ]
     },
     "execution_count": 22,
     "metadata": {},
     "output_type": "execute_result"
    },
    {
     "data": {
      "image/png": "[encoded data removed]",
      "text/plain": [
       "<Figure size 360x360 with 1 Axes>"
      ]
     },
     "metadata": {
      "needs_background": "light"
     },
     "output_type": "display_data"
    }
   ],
   "source": [
    "# Plot Diffusion in Einstein units\n",
    "pylab.figure(figsize=(5,5))\n",
    "pylab.errorbar(EFields,DTs,DTs_err,capsize=5,fmt='o',label=\"Transverse\")\n",
    "pylab.errorbar(EFields,DLs,DLs_err,capsize=5,fmt='o',label=\"Longitudinal\")\n",
    "pylab.xlabel(\"Electric Field (V/cm)\")\n",
    "pylab.ylabel(r\"Diffusion (cm$^2$ s$^{-1}$)\")"
   ]
  },
  {
   "cell_type": "code",
   "execution_count": 23,
   "metadata": {},
   "outputs": [
    {
     "data": {
      "text/plain": [
       "Text(0, 0.5, 'Diffusion ($\\\\mu$m cm$^{-\\\\frac{1}{2}}$)')"
      ]
     },
     "execution_count": 23,
     "metadata": {},
     "output_type": "execute_result"
    },
    {
     "data": {
      "image/png": "[encoded data removed]",
      "text/plain": [
       "<Figure size 360x360 with 1 Axes>"
      ]
     },
     "metadata": {
      "needs_background": "light"
     },
     "output_type": "display_data"
    }
   ],
   "source": [
    "# Plot Diffusion in TPC units\n",
    "pylab.figure(figsize=(5,5))\n",
    "pylab.errorbar(EFields,DT1s,DT1s_err,capsize=5,fmt='o',label=\"Transverse\")\n",
    "pylab.errorbar(EFields,DL1s,DL1s_err,capsize=5,fmt='o',label=\"Longitudinal\")\n",
    "pylab.xlabel(\"Electric Field (V/cm)\")\n",
    "pylab.ylabel(r\"Diffusion ($\\mu$m cm$^{-\\frac{1}{2}}$)\")"
   ]
  },
  {
   "cell_type": "code",
   "execution_count": 24,
   "metadata": {},
   "outputs": [
    {
     "name": "stdout",
     "output_type": "stream",
     "text": [
      "[0.7527018601215776, 0.7471812413551973]\n"
     ]
    }
   ],
   "source": [
    "print(DTs)"
   ]
  },
  {
   "cell_type": "code",
   "execution_count": null,
   "metadata": {},
   "outputs": [],
   "source": []
  }
 ],
 "metadata": {
  "kernelspec": {
   "display_name": "Python 3",
   "language": "python",
   "name": "python3"
  },
  "language_info": {
   "codemirror_mode": {
    "name": "ipython",
    "version": 3
   },
   "file_extension": ".py",
   "mimetype": "text/x-python",
   "name": "python",
   "nbconvert_exporter": "python",
   "pygments_lexer": "ipython3",
   "version": "3.8.2"
  }
 },
 "nbformat": 4,
 "nbformat_minor": 2
}
